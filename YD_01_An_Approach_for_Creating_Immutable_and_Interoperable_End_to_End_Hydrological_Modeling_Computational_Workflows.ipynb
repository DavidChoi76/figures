{
 "cells": [
  {
   "cell_type": "markdown",
   "id": "animal-layout",
   "metadata": {},
   "source": [
    "# YD 01 An Approach for Creating Immutable and Interoperable End-to-End Hydrological Modeling Computational Workflows\n"
   ]
  },
  {
   "cell_type": "markdown",
   "id": "confused-fifteen",
   "metadata": {},
   "source": [
    "## Authors"
   ]
  },
  {
   "cell_type": "markdown",
   "id": "southeast-northern",
   "metadata": {},
   "source": [
    "- Author1 = {\"name\": \"Young-Don Choi\", \"affiliation\": \"University of Virginia\", \"email\": \"yc5ef@virginia.edu\", \"orcid\": \"orcid\"}\n",
    "- Author2 = {\"name\": \"Jonathan L Goodall\", \"affiliation\": \"University of Virginia\", \"email\": \"goodall@virginia.edu\", \"orcid\": \"https://orcid.org/0000-0002-1112-4522\"}\n",
    "- Author3 = {\"name\": \"Iman Maghami\", \"affiliation\": \"University of Virginia\", \"email\": \"im3vp@virginia.edu\", \"orcid\": \"orcid\"}\n",
    "- Author4 = {\"name\": \"Lawrence Band\", \"affiliation\": \"University of Virginia\", \"email\": \"leb3t@virginia.edu\", \"orcid\": \"https://orcid.org/0000-0003-0461-0503\"}\n",
    "- Author5 = {\"name\": \"Raza Ahmad\", \"affiliation\": \"DePaul University\", \"email\": \"raza.ahmad@depaul.edu\", \"orcid\": \"https://orcid.org/0000-0001-7953-2269\"}\n",
    "- Author6 = {\"name\": \"Tanu Malik\", \"affiliation\": \"DePaul University\", \"email\": \"tmalik1@depaul.edu\", \"orcid\": \"orcid\"}\n",
    "- Author7 = {\"name\": \"Zhiyu Li\", \"affiliation\": \"University of Illinois at Urbana-Champaign\", \"email\": \"zyli2004@gmail.com\", \"orcid\": \"orcid\"}\n",
    "- Author8 = {\"name\": \"Shaowen Wang\", \"affiliation\": \"University of Illinois at Urbana-Champaign\", \"email\": \"shaowen@illinois.edu\", \"orcid\": \"https://orcid.org/0000-0001-5848-590X\"}\n",
    "- Author9 = {\"name\": \"David G. Tarboton\", \"affiliation\": \"Utah State University\", \"email\": \"dtarb@usu.edu\", \"orcid\": \"https://orcid.org/0000-0002-1998-3479\"}"
   ]
  },
  {
   "cell_type": "markdown",
   "id": "superb-asbestos",
   "metadata": {},
   "source": [
    "## Purpose\n",
    "\n",
    "* Computational hydrology is a rapidly advancing field with fast-evolving technologies to support increasingly complex computational hydrologic modeling. * The growing model complexity in terms of variety of software and cyberinfrastructure capabilities makes achieving computational reproducibility extremely challenging. Through recent reproducibility research, there have been efforts to integrate three components: 1) (meta)data, 2) computational environments, and 3) workflows. However, each component is still separate, and researchers must interoperate between these three components. These separations make verifying end-to-end reproducibility challenging. \n",
    "\n",
    "* Sciunit was developed to assist scientists, who are not programming experts, with encapsulating these three components into a container to enable reproducibility in an immutable form. However, there were still limitations to support interoperable computational environments and apply end-to-end solutions, which are an ultimate goal of reproducible hydrological modeling. \n",
    "\n",
    "* The objective of this research is to advance the existing Sciunit capabilities to not only support immutable, but also interoperable computational environments and apply an end-to-end modeling workflow using the Regional Hydro-Ecologic Simulation System (RHESSys) hydrologic model as an example.\n",
    "\n",
    "<img src=\"https://raw.githubusercontent.com/DavidChoi76/figures/main/earthcube_purpose.png\" width=\"1100\">\n",
    "\n",
    "## Technical contributions\n",
    "\n",
    "- Advance Sciunit, a tool for easily containerizing, sharing, and tracking deterministic computational applications, to minimally containerize reproducible hydrologic modeling workflow objects into the same container with immutability and interoperability\n",
    "\n",
    "- Develop pyRHESSys (https://github.com/uva-hydroinformatics/pyRHESSys) to programmatically interact with RHESSys on CyberGIS-Jupyter for water plaform(https://go.illinois.edu/cybergis-jupyter-water)\n",
    "\n",
    "- Devlope an approach to encapsulate all computational artifacts `1) data, 2) computational environments, and 3) modeling workflow` in an immutable container for `long-term reproducibility` using the self-containerized tool (Sciunit, https://sciunit.run).\n",
    "\n",
    "- Develop an approach to `generate software dependencies' list` to create a new computational environment for `an extendable computatioal research` using Sciunit\n",
    "\n",
    "- This research presents a detailed example of a user-centric case study demonstrating the application of an open and interoperable containerization approach from a hydrologic modeler’s perspective.\n",
    "\n",
    "## Methodology\n",
    "\n",
    "* We demonstrate how to encapsulate 1) data, 2) computational environments, and 3) modeling workflow for reproducibility using Sciunit.\n",
    "\n",
    "* First, we create Jupyter notebook to encapsulate RHESSys modeling workflow. In particular, we use a shell script to efficiently encapsulate GRASS GIS process in Sciunit.\n",
    "\n",
    "* Second, we create a Sciunit container using RHESSys end-to-end workflows in CyberGIS-Jupyter for water platform.\n",
    "\n",
    "* Third, we create `a computational dependencies' list` using Sciunit for evaluation of reproducibility in a different computational environment (MyBinder, https://mybinder.org).\n",
    "\n",
    "* Fourth, we create HydroShare resource including `the Sciunit container` and `computational dependencies' lists (MyBinder configuration file`\n",
    "\n",
    "<img src=\"https://raw.githubusercontent.com/DavidChoi76/figures/main/earthcube_methodology1.png\" width=\"1100\">\n",
    "\n",
    "## Results\n",
    "\n",
    "* We evaluate the immutable container for `long-term reproducibility` using Sciunit\n",
    "\n",
    "* We evaluate Sciunit capabilities to create a new computational environment for `an extendable computatioal research`\n",
    "\n",
    "## Funding\n",
    "\n",
    "- Award1 = {\"agency\": \"National Science Foundation\", \"award_code\": \"ICER-1639655, ICER-1639759, ICER-1639696\", \"award_URL\": \"https://www.nsf.gov/awardsearch/showAward?AWD_ID=1639655\"}\n",
    "- Award2 = {\"agency\": \"National Science Foundation\", \"award_code\": \"OAC-1664061, OAC-1664018, OAC-1664119\", \"award_URL\": \"https://www.nsf.gov/awardsearch/showAward?AWD_ID=1664061\"}\n",
    "\n",
    "## Keywords\n",
    "\n",
    "keywords=[\"hydrologic modeling\", \"computational reproducibility\", \"containerization\", \"open hydrology\", \"modeling version control\"]\n",
    "\n",
    "## Citation\n",
    "\n",
    "- That, D.H.T., Fils, G., Yuan, Z., Malik, T., 2017. Sciunits: Reusable research objects, in: Proceedings - 13th IEEE International Conference on EScience, EScience 2017. https://doi.org/10.1109/eScience.2017.51\n",
    "\n",
    "- Tague, C.L., Band, L.E., Tague, C.L., Band, L.E., 2004. RHESSys: Regional Hydro-Ecologic Simulation System—An Object-Oriented Approach to Spatially Distributed Modeling of Carbon, Water, and Nutrient Cycling. Earth Interact. 8, 1–42. [https://doi.org/10.1175/1087-3562(2004)8<1:RRHSSO>2.0.CO;2](https://doi.org/10.1175/1087-3562(2004)8<1:RRHSSO>2.0.CO;2)"
   ]
  },
  {
   "cell_type": "markdown",
   "id": "becoming-electronics",
   "metadata": {},
   "source": [
    "# Setup\n",
    "\n",
    "## Import Library "
   ]
  },
  {
   "cell_type": "code",
   "execution_count": null,
   "id": "surgical-death",
   "metadata": {
    "scrolled": true
   },
   "outputs": [],
   "source": [
    "!pip install git+https://github.com/hydroshare/hsclient.git"
   ]
  },
  {
   "cell_type": "code",
   "execution_count": null,
   "id": "abstract-secret",
   "metadata": {},
   "outputs": [],
   "source": [
    "# Data manipulation\n",
    "import os, shutil\n",
    "import sys\n",
    "import pandas as pd\n",
    "import numpy as np\n",
    "\n",
    "# RHESSys execution\n",
    "import pyrhessys as pr\n",
    "\n",
    "# GRASS GIS execution\n",
    "import subprocess\n",
    "from subprocess import Popen, PIPE\n",
    "\n",
    "# Visualization\n",
    "import matplotlib.pyplot as plt\n",
    "from IPython.display import Image\n",
    "\n",
    "# Output performance evaluation\n",
    "from hydroeval import *\n",
    "\n",
    "# HydroShare resource creation\n",
    "from hsmodels.schemas.fields import BoxCoverage, PointCoverage, PeriodCoverage\n",
    "from datetime import datetime"
   ]
  },
  {
   "cell_type": "markdown",
   "id": "mineral-compilation",
   "metadata": {},
   "source": [
    "\n",
    "# Raw Input Collection and RHESSys Compilation\n",
    "\n",
    "## Create Modeling Directory"
   ]
  },
  {
   "cell_type": "code",
   "execution_count": null,
   "id": "variable-sphere",
   "metadata": {},
   "outputs": [],
   "source": [
    "# Define Project name\n",
    "PROJECT_NAME = \"Coweeta_Sub18\"\n",
    "CURRENT_PATH = os.getcwd()\n",
    "PROJECT_DIR = os.path.join(CURRENT_PATH, PROJECT_NAME)\n",
    "# Define raw GIS and observation data directory downloaded from HydroShare\n",
    "RAWGIS_DIR = os.path.join(PROJECT_DIR, \"gis_data\")\n",
    "RAWOBS_DIR = os.path.join(PROJECT_DIR, \"obs\")\n",
    "# Define RHESsys model iput directory\n",
    "MODEL_DIR = os.path.join(PROJECT_DIR, 'model')\n",
    "# Create Detailed RHESsys model iput directories if directories are not previously setup.\n",
    "if not os.path.exists(PROJECT_DIR):\n",
    "    os.mkdir(PROJECT_DIR)\n",
    "    os.mkdir(MODEL_DIR)\n",
    "    os.mkdir(os.path.join(MODEL_DIR, 'defs'))\n",
    "    os.mkdir(os.path.join(MODEL_DIR, 'flows'))\n",
    "    os.mkdir(os.path.join(MODEL_DIR, 'worldfiles'))\n",
    "    os.mkdir(os.path.join(MODEL_DIR, 'clim'))\n",
    "    os.mkdir(os.path.join(MODEL_DIR, 'tecfiles'))\n",
    "    os.mkdir(os.path.join(MODEL_DIR, 'output'))\n",
    "else:\n",
    "    pass"
   ]
  },
  {
   "cell_type": "markdown",
   "id": "defined-concrete",
   "metadata": {},
   "source": [
    "## Download Raw Input Data from HydroShare (Coweeta Subbasin18, North Carolina)\n",
    "\n",
    "\n",
    "To start RHESSys modeling, we need to prepare raw spatial and time series input data. In this workflow, we describe the process from getting raw data (GIS data and time series data). Actually, we need to download data from governments or other organization websites, but for convenience we created HydroShare (https://www.hydroshare.org/) resource (https://www.hydroshare.org/resource/c7a3d9a914f54955877899389bb43ccb/) for this workflow.\n",
    "\n",
    "\n",
    "Define resource id to download HydroShare resource using `utils` module in pyRHESSys. In HydroShare resources, there are raw data (GIS data (DEM, Landcover, soil, outlet etc), time series data (climate, streamflow observations) etc). "
   ]
  },
  {
   "cell_type": "code",
   "execution_count": null,
   "id": "precise-battle",
   "metadata": {},
   "outputs": [],
   "source": [
    "# set HydroShare resource id of RHESSys Model instance for Coweeta subbasin18\n",
    "resource_id = 'c7a3d9a914f54955877899389bb43ccb'\n",
    "# download RHESSys Model instance of Coweeta subbasin18 from HydroSHare \n",
    "pr.utils.get_hs_resource(resource_id, PROJECT_DIR)"
   ]
  },
  {
   "cell_type": "markdown",
   "id": "greenhouse-absence",
   "metadata": {},
   "source": [
    "## Download RHESSys source code (East Coast version 7.2) and complie the RHESSys model "
   ]
  },
  {
   "cell_type": "markdown",
   "id": "unexpected-stretch",
   "metadata": {},
   "source": [
    "* RHESSys main branch (https://github.com/RHESSys/RHESSys) serves as a general purpose model, while this branch of RHESSys (https://github.com/laurencelin/RHESSysEastCoast) is repeatedly and heavily tested in several catchments (forested and urban) on the U.S. east coast in terms of hydrology, soil moisture pattern, forest ecosystem, and biochemistry cycle & transport."
   ]
  },
  {
   "cell_type": "code",
   "execution_count": null,
   "id": "canadian-giving",
   "metadata": {},
   "outputs": [],
   "source": [
    "!cd {MODEL_DIR}; git clone https://github.com/laurencelin/RHESSysEastCoast.git\n",
    "# complie rhessysEC.7.2 version execution file and set execution file to execution_file object\n",
    "EXECUTABLE = pr.utils.complie(MODEL_DIR, version_option=\"rhessysEC.7.2\")\n",
    "EXECUTABLE"
   ]
  },
  {
   "cell_type": "markdown",
   "id": "ethical-formation",
   "metadata": {},
   "source": [
    "# Parameter definitions\n",
    "\n",
    "* s1, s2, s3: horizontal hydraulic conductivity with depth and over the surface, \n",
    "* sv1, sv2: vertical hydraulic conductivity with depth and over the surface\n",
    "* gw1, gw2: groundwater bypass flow and drainage rate"
   ]
  },
  {
   "cell_type": "code",
   "execution_count": null,
   "id": "angry-swing",
   "metadata": {},
   "outputs": [],
   "source": [
    "# Create r pyRHESSys simulation object\n",
    "EXECUTABLE = MODEL_DIR + '/RHESSysEastCoast/rhessysEC.7.2'\n",
    "r = pr.Simulation(EXECUTABLE, MODEL_DIR)\n",
    "# Set simulation start and end date\n",
    "start_date = '2005 01 01 01'\n",
    "end_date = '2008 12 31 01'\n",
    "# Set observation climate and streamflow data\n",
    "obs_clim = os.path.join(RAWOBS_DIR, 'climate_coweeta_ws18.csv')\n",
    "obs_flow = os.path.join(RAWOBS_DIR, 'streamflow_coweeta_ws18.csv')\n",
    "# Set model parameters\n",
    "r.parameters['version'] = 'rhessysEC.7.2'\n",
    "r.parameters['start_date'] = start_date\n",
    "r.parameters['end_date'] = end_date\n",
    "r.parameters['s1'] = '5.884455562440615'\n",
    "r.parameters['s2'] = '310.52318375463875'\n",
    "r.parameters['s3'] = '4.16584949108444'\n",
    "r.parameters['sv1'] = '12.77961480830584'\n",
    "r.parameters['sv2'] = '90.48308040876708'\n",
    "r.parameters['gw1'] = '0.19564245134347147'\n",
    "r.parameters['gw2'] = '0.400865955544775'\n",
    "r.parameters['snowEs'] = '1.17543162591755'\n",
    "r.parameters['snowTs'] = '0.527982610510662'\n",
    "r.parameters['svalt1'] = '0.928032172983822'\n",
    "r.parameters['svalt2'] = '0.955452497987305'\n",
    "r.parameters['locationid'] = '0'"
   ]
  },
  {
   "cell_type": "markdown",
   "id": "academic-ethics",
   "metadata": {},
   "source": [
    "# GRASS GIS 7.8 Setting"
   ]
  },
  {
   "cell_type": "markdown",
   "id": "located-edward",
   "metadata": {},
   "source": [
    "To start to use GRASS GIS and Python library of GRASS GIS, we need to set GRASS database and environment."
   ]
  },
  {
   "cell_type": "code",
   "execution_count": null,
   "id": "agricultural-oxford",
   "metadata": {},
   "outputs": [],
   "source": [
    "# Set the directory to store preprocessing GRASS database\n",
    "GRASS_DATA = \"grass_dataset\"\n",
    "GISDBASE = os.path.join(PROJECT_DIR, GRASS_DATA)\n",
    "# Set the full path to GRASS execution\n",
    "GRASSEXE = \"/usr/lib/grass78\" \n",
    "if os.path.isdir(GRASSEXE):\n",
    "    pass\n",
    "else:\n",
    "    GRASSEXE = \"/usr/lib/grass74\" \n",
    "    os.environ[\"GDAL_DATA\"] = \"/usr/share/gdal/2.2\"\n",
    "# Set the command to start GRASS from shell\n",
    "GRASS7BIN = \"grass\" \n",
    "# Define and create grass data folder, location, and mapset\n",
    "if not os.path.exists(GISDBASE):\n",
    "    os.mkdir(GISDBASE)\n",
    "LOCATION = os.path.join(GISDBASE, PROJECT_NAME)\n",
    "# Define mapset name which is a working directory for GRASS GIS\n",
    "MAPSET = \"PERMANENT\""
   ]
  },
  {
   "cell_type": "code",
   "execution_count": null,
   "id": "romantic-hamburg",
   "metadata": {},
   "outputs": [],
   "source": [
    "# Set GISBASE environment variable\n",
    "os.environ['GISBASE'] = GRASSEXE\n",
    "# The following not needed with trunk\n",
    "os.environ['PATH'] += os.pathsep + os.path.join(GRASSEXE, 'bin')\n",
    "# Set GISDBASE environment variable\n",
    "os.environ['GISDBASE'] = GISDBASE\n",
    "\n",
    "# define GRASS-Python environment\n",
    "gpydir = os.path.join(GRASSEXE, \"etc\", \"python\")\n",
    "sys.path.append(gpydir)\n",
    "\n",
    "# import GRASS Python library\n",
    "import grass.script as gscript\n",
    "import grass.script.setup as gsetup\n",
    "gscript.core.set_raise_on_error(True)"
   ]
  },
  {
   "cell_type": "code",
   "execution_count": null,
   "id": "greatest-agriculture",
   "metadata": {},
   "outputs": [],
   "source": [
    "# launch session\n",
    "gsetup.init(GRASSEXE, GISDBASE, LOCATION, MAPSET)"
   ]
  },
  {
   "cell_type": "code",
   "execution_count": null,
   "id": "assigned-reporter",
   "metadata": {},
   "outputs": [],
   "source": [
    "# projection for spatial reference and resolution\n",
    "# GIS spatial resolution and projection (UTM)\n",
    "# look up from http://spatialreference.org/ref/epsg/?page=1\n",
    "# EPSG:26917 = NAD83 UTM 17N\n",
    "EPSGCODE='EPSG:26917'\n",
    "location_path = os.path.join(GISDBASE, LOCATION)\n",
    "# Create GRASS database for the project\n",
    "if not os.path.exists(location_path):\n",
    "    startcmd = GRASS7BIN + ' -c ' + EPSGCODE + ' -e ' + location_path\n",
    "    print(startcmd)\n",
    "    p = subprocess.Popen(startcmd, shell=True, stdout=subprocess.PIPE, stderr=subprocess.PIPE)\n",
    "    out, err = p.communicate()\n",
    "    print(p.returncode)\n",
    "    if p.returncode != 0:\n",
    "        print('ERROR: %s' % err, file=sys.stderr)\n",
    "        print('ERROR: Cannot generate location (%s)' % startcmd, file=sys.stderr)\n",
    "        sys.exit(-1)"
   ]
  },
  {
   "cell_type": "markdown",
   "id": "quantitative-insulation",
   "metadata": {},
   "source": [
    "# Spatial RHESSys Input Preparation using GRASS GIS"
   ]
  },
  {
   "cell_type": "markdown",
   "id": "based-ground",
   "metadata": {},
   "source": [
    "## Create a Watershed Outlet textfile to Delineate the Watershed"
   ]
  },
  {
   "cell_type": "code",
   "execution_count": null,
   "id": "essential-illinois",
   "metadata": {},
   "outputs": [],
   "source": [
    "%%writefile gage_latlon.txt\n",
    "277826.69 3881430.25 1"
   ]
  },
  {
   "cell_type": "markdown",
   "id": "numerical-salvation",
   "metadata": {},
   "source": [
    "## Create Spatial RHESSys Input using GRASS GIS with Shell Script\n",
    "\n",
    "* In this process, we delineate a watershed using a point outlet and DEM. Then we extract land cover and soil map attributes. Finally, we create RHESSys spatial input files such as worldfiles, definition and flowtable. Worldfiles is used to describes the data properties and allows them to be represented in the landscape: Basin, Zone, Hillslope, Patch. Flowtable is used to describe the connectivity between patches and hillslopes.\n",
    "\n",
    "\n",
    "* Depending on the condition of CyberGIS-Jupter for water, execution time is different. In general, it takes 3 min to complete GIS Process"
   ]
  },
  {
   "cell_type": "code",
   "execution_count": null,
   "id": "stuck-indiana",
   "metadata": {},
   "outputs": [],
   "source": [
    "%%time\n",
    "!chmod +x coweeta_sub18_workflow.sh\n",
    "process = Popen([os.getcwd() + '/coweeta_sub18_workflow.sh'], stdout=PIPE, stderr=PIPE)\n",
    "stdout, stderr = process.communicate()\n",
    "print(stdout)"
   ]
  },
  {
   "cell_type": "markdown",
   "id": "timely-burner",
   "metadata": {},
   "source": [
    "## Visualize Spatial Attribute (Aspect, Slope, and Flow Direction)"
   ]
  },
  {
   "cell_type": "code",
   "execution_count": null,
   "id": "adopted-basics",
   "metadata": {},
   "outputs": [],
   "source": [
    "# Default font displays\n",
    "os.environ['GRASS_FONT'] = 'sans'\n",
    "# Overwrite existing maps\n",
    "os.environ['GRASS_OVERWRITE'] = '1'\n",
    "os.environ['GRASS_RENDER_IMMEDIATE'] = 'cairo'\n",
    "os.environ['GRASS_RENDER_FILE_READ'] = 'TRUE'\n",
    "os.environ['GRASS_LEGEND_FILE'] = 'legend.txt'"
   ]
  },
  {
   "cell_type": "markdown",
   "id": "still-disability",
   "metadata": {},
   "source": [
    "### Visualize `Aspect` Map"
   ]
  },
  {
   "cell_type": "code",
   "execution_count": null,
   "id": "consecutive-hudson",
   "metadata": {},
   "outputs": [],
   "source": [
    "os.environ['GRASS_RENDER_FILE'] = 'aspect.png'\n",
    "!grass {LOCATION}/{MAPSET} --exec d.rast map=\"aspect\"\n",
    "!grass {LOCATION}/{MAPSET} --exec d.legend raster=\"aspect\" fontsize='8' title='aspect' title_fontsize='12' at=5,50,0,5\n",
    "image = os.path.join(CURRENT_PATH,'aspect.png')\n",
    "Image(filename=image)"
   ]
  },
  {
   "cell_type": "markdown",
   "id": "fleet-ordinary",
   "metadata": {},
   "source": [
    "### Visualize `Slope` Map"
   ]
  },
  {
   "cell_type": "code",
   "execution_count": null,
   "id": "duplicate-bacon",
   "metadata": {},
   "outputs": [],
   "source": [
    "os.environ['GRASS_RENDER_FILE'] = 'slope.png'\n",
    "!grass {LOCATION}/{MAPSET} --exec d.rast map=\"slope\"\n",
    "!grass {LOCATION}/{MAPSET} --exec d.legend raster=\"slope\" fontsize='8' title='slope' title_fontsize='12' at=5,50,0,5\n",
    "image = os.path.join(CURRENT_PATH,'slope.png')\n",
    "Image(filename=image)"
   ]
  },
  {
   "cell_type": "markdown",
   "id": "minimal-clearing",
   "metadata": {},
   "source": [
    "### Visualize `Drain (Flow Direction)` Map"
   ]
  },
  {
   "cell_type": "code",
   "execution_count": null,
   "id": "visible-costume",
   "metadata": {},
   "outputs": [],
   "source": [
    "os.environ['GRASS_RENDER_FILE'] = 'drain.png'\n",
    "!grass {LOCATION}/{MAPSET} --exec d.rast map=\"drain\"\n",
    "!grass {LOCATION}/{MAPSET} --exec d.legend raster=\"drain\" fontsize='15' title='drain' title_fontsize='12' at=5,50,0,5\n",
    "image = os.path.join(CURRENT_PATH,'drain.png')\n",
    "Image(filename=image)"
   ]
  },
  {
   "cell_type": "markdown",
   "id": "familiar-examination",
   "metadata": {},
   "source": [
    "# Time-series and Other Model input Configurations"
   ]
  },
  {
   "cell_type": "markdown",
   "id": "architectural-dealer",
   "metadata": {},
   "source": [
    "### Create RHESsys input from observed time-series data"
   ]
  },
  {
   "cell_type": "code",
   "execution_count": null,
   "id": "iraqi-generator",
   "metadata": {},
   "outputs": [],
   "source": [
    "obs_clim_df = pd.read_csv(obs_clim)\n",
    "\n",
    "ClimDIR = os.path.join(MODEL_DIR, 'clim')\n",
    "\n",
    "rain = obs_clim_df['rain'].values\n",
    "np.savetxt(r'cwt.rain', obs_clim_df['rain'].values, fmt='%2.4f', header='1983 9 1 1', comments='')\n",
    "shutil.copy('cwt.rain', ClimDIR)\n",
    "\n",
    "tmax = obs_clim_df['tmax'].values\n",
    "np.savetxt(r'cwt.tmax', obs_clim_df['tmax'].values, fmt='%2.1f', header='1983 9 1 1', comments='')\n",
    "shutil.copy('cwt.tmax', ClimDIR)\n",
    "\n",
    "tmin = obs_clim_df['tmin'].values\n",
    "np.savetxt(r'cwt.tmin', obs_clim_df['tmin'].values, fmt='%2.1f', header='1983 9 1 1', comments='')\n",
    "shutil.copy('cwt.tmin', ClimDIR)\n",
    "\n",
    "vpd = pd.to_numeric(obs_clim_df['vpd'].values, errors='coerce')\n",
    "np.savetxt(r'cwt.vpd', vpd, fmt='%3.2f', header='1983 9 1 1', comments='')\n",
    "shutil.copy('cwt.vpd', ClimDIR)\n",
    "\n",
    "rh = pd.to_numeric(obs_clim_df['rh'].values, errors='coerce')\n",
    "np.savetxt(r'cwt.relative_humidity', rh, fmt='%2.1f', header='1983 9 1 1', comments='')\n",
    "shutil.copy('cwt.relative_humidity', ClimDIR)\n",
    "\n",
    "kdownDirect = pd.to_numeric(obs_clim_df['kdownDirect'].values, errors='coerce')\n",
    "np.savetxt(r'cwt.Kdown_direct', kdownDirect, fmt='%5.1f', header='1983 9 1 1', comments='')\n",
    "shutil.copy('cwt.Kdown_direct', ClimDIR)"
   ]
  },
  {
   "cell_type": "markdown",
   "id": "grateful-array",
   "metadata": {},
   "source": [
    "### Create Climate RHESSys input"
   ]
  },
  {
   "cell_type": "code",
   "execution_count": null,
   "id": "private-harris",
   "metadata": {},
   "outputs": [],
   "source": [
    "cwt_path = ClimDIR +\"/cwt\"\n",
    "cwt_path1 = ClimDIR +\"/na\"\n",
    "base = open(\"cwt.base\",\"w\") \n",
    "contents = [\"101 base_station_id \\n\",\n",
    "     \"278391.71 x_coordinate \\n\",\n",
    "     \"3882439.5 y_coordinate \\n\",\n",
    "     \"638.0 z_coordinate \\n\",\n",
    "     \"2.0 effective_lai \\n\",\n",
    "     \"22.9 \tscreen_height \\n\",\n",
    "     cwt_path1 + \" annual_climate_prefix \\n\", \"0 \\n\",\n",
    "     cwt_path1 + \" monthly_climate_prefix \\n\", \"0 \\n\",\n",
    "     cwt_path + \" daily_climate_prefix \\n\", \"0 \\n\",\n",
    "     cwt_path1 + \" hourly_climate_prefix \\n\", \"0 \"]  \n",
    "base.writelines(contents) \n",
    "base.close() \n",
    "shutil.copy('cwt.base', ClimDIR)\n",
    "climateBaseFile = os.path.join(ClimDIR, 'cwt.base')"
   ]
  },
  {
   "cell_type": "markdown",
   "id": "amazing-avenue",
   "metadata": {},
   "source": [
    "### Create Tecfiles (Temporal Event Control File)"
   ]
  },
  {
   "cell_type": "code",
   "execution_count": null,
   "id": "marked-costa",
   "metadata": {},
   "outputs": [],
   "source": [
    "tecfilessDIR = os.path.join(MODEL_DIR, 'tecfiles')\n",
    "tec_daily = open(\"tec_daily.txt\",\"w\") \n",
    "contents = [\"1983 9 1 1 print_daily_on\"]  \n",
    "tec_daily.writelines(contents) \n",
    "tec_daily.close() \n",
    "shutil.copy('tec_daily.txt', tecfilessDIR)"
   ]
  },
  {
   "cell_type": "markdown",
   "id": "seven-tonight",
   "metadata": {},
   "source": [
    "### Set Current Directories in RHESSys climate and worldfile input"
   ]
  },
  {
   "cell_type": "code",
   "execution_count": null,
   "id": "political-truth",
   "metadata": {},
   "outputs": [],
   "source": [
    "clim_file = ClimDIR + '/cwt.base'\n",
    "clim_data = open(clim_file, 'r')\n",
    "\n",
    "world_hdr_file = r.worldfiles + '/worldfile.hdr'\n",
    "world_hdr_data = open(world_hdr_file, 'r')\n",
    "\n",
    "pr.utils.replace_string(world_hdr_file, \"defs\", r.defs)\n",
    "pr.utils.replace_string(world_hdr_file, \"clim\", r.clim)\n",
    "world_hdr_file = r.worldfiles + '/worldfile.hdr'\n",
    "world_hdr_data = open(world_hdr_file, 'r')"
   ]
  },
  {
   "cell_type": "markdown",
   "id": "isolated-manner",
   "metadata": {},
   "source": [
    "\n",
    "# RHESSys Execution and Model Output Evaluation"
   ]
  },
  {
   "cell_type": "markdown",
   "id": "exact-logic",
   "metadata": {},
   "source": [
    "## Execute RHESSys"
   ]
  },
  {
   "cell_type": "markdown",
   "id": "interpreted-access",
   "metadata": {},
   "source": [
    "* It take 2~4 min to simulate daily execution of RHESSys for 4 years"
   ]
  },
  {
   "cell_type": "code",
   "execution_count": null,
   "id": "bizarre-italic",
   "metadata": {},
   "outputs": [],
   "source": [
    "%%time\n",
    "r.run(\"local\")"
   ]
  },
  {
   "cell_type": "markdown",
   "id": "fiscal-premiere",
   "metadata": {},
   "source": [
    "## Plot Model Output: Comparison between Simulation and Observation Streamflow"
   ]
  },
  {
   "cell_type": "code",
   "execution_count": null,
   "id": "eight-jordan",
   "metadata": {},
   "outputs": [],
   "source": [
    "# Create Pandas dataframe from RHESSys output\n",
    "obs_flow_f = os.path.join(RAWOBS_DIR, 'streamflow_coweeta_ws18.csv')\n",
    "obs_flow = pd.read_csv(obs_flow_f)\n",
    "obs_flow['Date'] = pd.to_datetime(obs_flow['date'])\n",
    "obs_flow.set_index('Date', inplace=True)\n",
    "\n",
    "analysis_obs_flow = obs_flow['2005-01-01':'2008-12-31']\n",
    "analysis_obs_flow = analysis_obs_flow.iloc[0:-1]\n",
    "\n",
    "plot_data = pd.read_csv(r.output + \"/rhessys_run\" +'_basin.daily', delimiter=\" \")\n",
    "plot_data['Date'] = pd.to_datetime(analysis_obs_flow.index)"
   ]
  },
  {
   "cell_type": "code",
   "execution_count": null,
   "id": "military-header",
   "metadata": {},
   "outputs": [],
   "source": [
    "# compare simulation streamflow and observed streamflow\n",
    "def ts_plot_obs(sim_data, sim_date_col_name, sim_output_variable, sim_label, obs_data, obs_variable: str=\"\", obs_label: str=\"\", pre_trim: int=0, post_trim: int=-1):\n",
    "    # set output variables and variable description\n",
    "    y_axis = \"Total Stream Outflow(mm (normalized by basin area))\"\n",
    "    # Plotting \n",
    "    plt.figure(figsize=(17,7))\n",
    "    ax = plt.gca()\n",
    "    ax.plot(sim_data[sim_date_col_name][pre_trim:post_trim], sim_data[sim_output_variable][pre_trim:post_trim], label=sim_label)\n",
    "    ax.plot(obs_data.index[pre_trim:post_trim], obs_data[obs_variable][pre_trim:post_trim], label=obs_label)\n",
    "    ax.grid(True)\n",
    "    ax.set_ylabel(y_axis, fontsize=18)\n",
    "    plt.xticks(fontsize=18)\n",
    "    plt.yticks(fontsize=18)\n",
    "    ax.legend(loc='upper left', bbox_to_anchor=(1, 1), fontsize=10)\n",
    "    plt.savefig(\"figure.png\")\n",
    "ts_plot_obs(sim_data=plot_data, sim_date_col_name='Date', sim_output_variable='streamflow', sim_label=\"sim_streamflow\", obs_data=analysis_obs_flow, obs_variable=\"discharge (mm)\", obs_label=\"obs_stream\", pre_trim =100)"
   ]
  },
  {
   "cell_type": "markdown",
   "id": "lesser-daisy",
   "metadata": {},
   "source": [
    "## Evaluate Model Performance"
   ]
  },
  {
   "cell_type": "code",
   "execution_count": null,
   "id": "resident-violation",
   "metadata": {},
   "outputs": [],
   "source": [
    "# set simulation and observation data to evaluate \n",
    "simulation_streamflow = plot_data[\"streamflow\"].values\n",
    "obs_streamflow = analysis_obs_flow[\"discharge (mm)\"].values\n",
    "\n",
    "# use the evaluator with the Nash Sutcliffe Efficiency\n",
    "my_nse = evaluator(nse, simulation_streamflow[365*1:], obs_streamflow[365*1:])\n",
    "my_nse"
   ]
  },
  {
   "cell_type": "code",
   "execution_count": null,
   "id": "swiss-gentleman",
   "metadata": {},
   "outputs": [],
   "source": [
    "f= open(\"performance.txt\",\"w+\")\n",
    "f.write(\"The Nash Sutcliffe Efficiency is %s\\r\" % (my_nse))\n",
    "f.close()        "
   ]
  },
  {
   "cell_type": "markdown",
   "id": "periodic-pound",
   "metadata": {},
   "source": [
    "\n",
    "# Encapsulation of All Computational Artifacts using Sciunit"
   ]
  },
  {
   "cell_type": "code",
   "execution_count": null,
   "id": "starting-chester",
   "metadata": {
    "scrolled": true
   },
   "outputs": [],
   "source": [
    "import sys\n",
    "!{sys.executable} -m pip install sciunit2==0.4.post63.dev250822854"
   ]
  },
  {
   "cell_type": "markdown",
   "id": "delayed-senator",
   "metadata": {},
   "source": [
    "## Convert a RHESSys end-to-end workflow notebook to Python file (*.py)"
   ]
  },
  {
   "cell_type": "markdown",
   "id": "explicit-entertainment",
   "metadata": {},
   "source": [
    "The current version of Sciunit cannot directly create a Sciunit container using Jupyter notebook. So we need to convert this Jupyter notebook to Python code (from *.ipynb to *.py). To convert this notebook, we need to set the range of notebook except for downloading HydroShare resource and Sciunit process."
   ]
  },
  {
   "cell_type": "code",
   "execution_count": null,
   "id": "broad-crossing",
   "metadata": {
    "scrolled": true
   },
   "outputs": [],
   "source": [
    "import sys\n",
    "!{sys.executable} -m pip install jupyter_contrib_nbextensions"
   ]
  },
  {
   "cell_type": "code",
   "execution_count": null,
   "id": "federal-horizon",
   "metadata": {},
   "outputs": [],
   "source": [
    "notebook_name = 'YD_01_An_Approach_for_Creating_Immutable_and_Interoperable_End_to_End_Hydrological_Modeling_Computational_Workflows'\n",
    "!jupyter nbconvert {notebook_name}.ipynb --to script"
   ]
  },
  {
   "cell_type": "markdown",
   "id": "initial-impression",
   "metadata": {},
   "source": [
    " * Set the range of RHESSys workflows to encapsulate all computational artifacts except for 1) downloading external data for creating an immutable container and 2) creating the process of a Sciunit container."
   ]
  },
  {
   "cell_type": "code",
   "execution_count": null,
   "id": "featured-brass",
   "metadata": {},
   "outputs": [],
   "source": [
    "# delete the process of downloading the RHESSys model instance from HydroShare and Sciunit process in this notebook\n",
    "python_file_names = [\"import_library_and_set_directory.py\", \"set_parameters.py\", \"remaining_procedures.py\"]\n",
    "original_python_file = notebook_name+\".py\"\n",
    "with open(original_python_file, 'r') as fin, open(python_file_names[0], 'w+') as fout:\n",
    "    for i, l in enumerate(fin):\n",
    "        if int(87) <= i < int(144):\n",
    "            fout.write(\"%s\\n\"%l)\n",
    "with open(original_python_file, 'r') as fin, open(python_file_names[1], 'w+') as fout:\n",
    "    for i, l in enumerate(fin):\n",
    "        if int(175) <= i < int(209):\n",
    "            fout.write(\"%s\\n\"%l)\n",
    "with open(original_python_file, 'r') as fin, open(python_file_names[2], 'w+') as fout:\n",
    "    for i, l in enumerate(fin):\n",
    "        if int(286) <= i < int(523):\n",
    "            fout.write(\"%s\\n\"%l)"
   ]
  },
  {
   "cell_type": "code",
   "execution_count": null,
   "id": "choice-oriental",
   "metadata": {},
   "outputs": [],
   "source": [
    "# Combine Three Python files into one Python file\n",
    "modified_python_file = \"Modified_\" + original_python_file\n",
    "filenames = [\"import_library_and_set_directory.py\", \"set_parameters.py\", \"remaining_procedures.py\"]\n",
    "with open(modified_python_file, 'w') as outfile:\n",
    "    for fname in filenames:\n",
    "        with open(fname) as infile:\n",
    "            for line in infile:\n",
    "                outfile.write(line)"
   ]
  },
  {
   "cell_type": "markdown",
   "id": "northern-tulsa",
   "metadata": {},
   "source": [
    "## Create an empty Sciunit Container"
   ]
  },
  {
   "cell_type": "code",
   "execution_count": null,
   "id": "blank-blake",
   "metadata": {},
   "outputs": [],
   "source": [
    "package_name = \"Sciunit_RHESSys_Coweeta_Sub18\"\n",
    "!/opt/conda/envs/pyrhessys/bin/sciunit create {package_name}"
   ]
  },
  {
   "cell_type": "markdown",
   "id": "heated-impact",
   "metadata": {},
   "source": [
    "## Open the empty Sciunit Container"
   ]
  },
  {
   "cell_type": "code",
   "execution_count": null,
   "id": "personalized-place",
   "metadata": {},
   "outputs": [],
   "source": [
    "!/opt/conda/envs/pyrhessys/bin/sciunit open {package_name}"
   ]
  },
  {
   "cell_type": "markdown",
   "id": "similar-terrace",
   "metadata": {},
   "source": [
    "## Execute Sciunit to create the Sciunit Container"
   ]
  },
  {
   "cell_type": "markdown",
   "id": "conventional-happening",
   "metadata": {},
   "source": [
    "<font color='red'> * Depending on the condition of CyberGIS-Jupyter for water, execution time is different. In general, it takes 11 mins.</font> "
   ]
  },
  {
   "cell_type": "code",
   "execution_count": null,
   "id": "unnecessary-twist",
   "metadata": {
    "scrolled": true
   },
   "outputs": [],
   "source": [
    "%%time\n",
    "!/opt/conda/envs/pyrhessys/bin/sciunit exec /opt/conda/envs/pyrhessys/bin/ipython {modified_python_file}"
   ]
  },
  {
   "cell_type": "markdown",
   "id": "english-complexity",
   "metadata": {},
   "source": [
    "## Show the Created Sciunit Container"
   ]
  },
  {
   "cell_type": "code",
   "execution_count": null,
   "id": "incident-carry",
   "metadata": {},
   "outputs": [],
   "source": [
    "!/opt/conda/envs/pyrhessys/bin/sciunit list"
   ]
  },
  {
   "cell_type": "code",
   "execution_count": null,
   "id": "married-landscape",
   "metadata": {},
   "outputs": [],
   "source": [
    "!/opt/conda/envs/pyrhessys/bin/sciunit show e1"
   ]
  },
  {
   "cell_type": "markdown",
   "id": "therapeutic-upper",
   "metadata": {},
   "source": [
    "# HydroShare Resources Creation \n",
    "\n",
    "- Share Sciunit Container and MyBinder Configurations in HydroShare to evaluate Reproducibility in a Different Computational Environment"
   ]
  },
  {
   "cell_type": "markdown",
   "id": "current-denmark",
   "metadata": {},
   "source": [
    "## Case-Study 1: Create a HydroShare Resource to Evaulate Reproducibility using the Immutable Sciunit Container "
   ]
  },
  {
   "cell_type": "markdown",
   "id": "enclosed-mother",
   "metadata": {},
   "source": [
    "### Create a zip file of the Sciunit Container\n"
   ]
  },
  {
   "cell_type": "code",
   "execution_count": null,
   "id": "defensive-cache",
   "metadata": {},
   "outputs": [],
   "source": [
    "zip_name = \"sciunit_container\"\n",
    "sciunit_container = os.path.join(\"/home/jovyan/sciunit\", package_name)\n",
    "sample_dir1 = os.path.join(os.getcwd(), zip_name)\n",
    "sample_dir2 = os.path.join(os.getcwd(), zip_name, zip_name)\n",
    "sciunit_container = \"/home/jovyan/sciunit/\" + package_name\n",
    "shutil.copytree(sciunit_container, sample_dir2)\n",
    "shutil.make_archive(zip_name, 'zip', sample_dir1)"
   ]
  },
  {
   "cell_type": "markdown",
   "id": "sunset-instruction",
   "metadata": {},
   "source": [
    "### Create Mybinder Configuration mannually"
   ]
  },
  {
   "cell_type": "code",
   "execution_count": null,
   "id": "decent-storage",
   "metadata": {},
   "outputs": [],
   "source": [
    "!mkdir binder"
   ]
  },
  {
   "cell_type": "code",
   "execution_count": null,
   "id": "technical-fairy",
   "metadata": {},
   "outputs": [],
   "source": [
    "%%writefile binder/requirements.txt\n",
    "sciunit2==0.4.post63.dev250822854"
   ]
  },
  {
   "cell_type": "markdown",
   "id": "international-section",
   "metadata": {},
   "source": [
    "### Authenticate with HydroShare\n",
    "\n",
    "Before you start interacting with resources in HydroShare you will need to authenticate."
   ]
  },
  {
   "cell_type": "code",
   "execution_count": null,
   "id": "contemporary-stereo",
   "metadata": {},
   "outputs": [],
   "source": [
    "from hsclient import HydroShare\n",
    "\n",
    "hs = HydroShare()\n",
    "hs.sign_in()"
   ]
  },
  {
   "cell_type": "markdown",
   "id": "certified-picnic",
   "metadata": {},
   "source": [
    "### Create Case-Study 1 HS resource in HydroShare\n"
   ]
  },
  {
   "cell_type": "code",
   "execution_count": null,
   "id": "enclosed-history",
   "metadata": {},
   "outputs": [],
   "source": [
    "# Create the new, empty resource\n",
    "new_resource = hs.create()\n",
    "\n",
    "# Set the Title for the resource\n",
    "new_resource.metadata.title = '[Case-Study 1] An Immuable Sciunit Container encapsulated RHESSys end-to-end modeling workflows at Cowweta Subbasin18 to evaluate Long-Term Reproducibility'\n",
    "\n",
    "# Set the Abstract text for the resource\n",
    "new_resource.metadata.abstract = (\n",
    "    'This resource was created to share the Sciunit container that encapsulated RHESSys end-to-end workflows'\n",
    ")\n",
    "\n",
    "# Create subject keywords for the resource using a list of strings\n",
    "new_resource.metadata.subjects = ['hydrologic modeling', 'computational reproducibility', 'containerization', 'open hydrology']\n",
    "\n",
    "# Set the spatial coverage to a BoxCoverage object\n",
    "new_resource.metadata.spatial_coverage = BoxCoverage(name='Coweeta subbasin18, North Carolina',\n",
    "                                                     northlimit=35.0513,\n",
    "                                                     eastlimit=-83.4319,\n",
    "                                                     southlimit=35.0454,\n",
    "                                                     westlimit=-83.4363,\n",
    "                                                     projection='WGS 84 EPSG:4326',\n",
    "                                                     type='box',\n",
    "                                                     units='Decimal degrees')\n",
    "\n",
    "# Create a beginning and ending date for a time period\n",
    "beginDate = datetime.strptime('2005-01-01T00:00:00Z', '%Y-%m-%dT%H:%M:%S%fZ')\n",
    "endDate = datetime.strptime('2008-12-31T00:00:00Z', '%Y-%m-%dT%H:%M:%S%fZ')\n",
    "\n",
    "# Set the temporal coverage of the resource to a PeriodCoverage object\n",
    "new_resource.metadata.period_coverage = PeriodCoverage(start=beginDate,\n",
    "                                                       end=endDate)\n",
    "\n",
    "# Save the changes to the resource in HydroShare\n",
    "new_resource.save()\n",
    "\n",
    "# Create a binder folder\n",
    "new_resource.folder_create('binder')\n",
    "\n",
    "# Upload one or more files to a specific folder within a resource\n",
    "new_resource.file_upload(zip_name+'.zip', \"YD_02_An_Approach_for_Creating_Immutable_and_Interoperable_End_to_End_Hydrological_Modeling_Computational_Workflows.ipynb\")\n",
    "new_resource.file_upload(\"binder/requirements.txt\", destination_path='binder')"
   ]
  },
  {
   "cell_type": "markdown",
   "id": "enclosed-presentation",
   "metadata": {},
   "source": [
    "## Case-Study 2: Create a HydroShare Resource to Create a New Computational Environment for Extendable Computatioal Research\n",
    "\n",
    "* Currently, Sciunit can only generate \"requirements.txt\" which encapsulates Python pip install libraries during Sciunit execution. Therefore, we manually create apt.txt to install GRASS GIS and other dependencies related to apt install. Also, we manually create install.R and postBuild for installation of R packages and conda install. Finally, We used setup.py to install Python libraries automatically using \"requirements.txt\" that encapsulated every python pip install library using Sciunit. Because there are some libraries that can't install anymore, So we create setup.py, if there are no libraries to install or occur errors, we pass."
   ]
  },
  {
   "cell_type": "markdown",
   "id": "distinct-documentary",
   "metadata": {},
   "source": [
    "### Create a `requirements.txt` Configuration file automatically using Sciunit"
   ]
  },
  {
   "cell_type": "code",
   "execution_count": null,
   "id": "cardiovascular-partner",
   "metadata": {},
   "outputs": [],
   "source": [
    "!/opt/conda/envs/pyrhessys/bin/sciunit export e1"
   ]
  },
  {
   "cell_type": "markdown",
   "id": "unique-preference",
   "metadata": {},
   "source": [
    "### Create `setup.py` manually"
   ]
  },
  {
   "cell_type": "code",
   "execution_count": null,
   "id": "structural-airplane",
   "metadata": {},
   "outputs": [],
   "source": [
    "%%writefile setup.py\n",
    "from setuptools import setup, find_packages\n",
    "import os\n",
    "from pip.__main__ import _main as main\n",
    "\n",
    "error_log = open('error_log.txt', 'w')\n",
    "\n",
    "def install(package):\n",
    "    try:\n",
    "        main(['install'] + [str(package)])\n",
    "    except Exception as e:\n",
    "        error_log.write(str(e))\n",
    "\n",
    "if __name__ == '__main__':\n",
    "    f = open('e1-requirements.txt', 'r')\n",
    "    for line in f:\n",
    "        install(line)\n",
    "    f.close()\n",
    "    error_log.close()\n",
    "    \n",
    "setup(name='pyrhessys',\n",
    "      description='A python wrapper for RHESSys',\n",
    "      url='https://github.com/uva-hydroinformatics/pyRHESSys',\n",
    "      author='YoungDon Choi',\n",
    "      author_email='choiyd1115@gmail.com',\n",
    "      license='MIT',\n",
    "      packages=find_packages(),\n",
    "      install_requires=[\n",
    "          ],\n",
    "      include_package_data=True,\n",
    "      test_suite='pyrhessys.tests')"
   ]
  },
  {
   "cell_type": "markdown",
   "id": "vanilla-episode",
   "metadata": {},
   "source": [
    "### Create `apt.py` manually"
   ]
  },
  {
   "cell_type": "code",
   "execution_count": null,
   "id": "radical-strand",
   "metadata": {},
   "outputs": [],
   "source": [
    "%%writefile apt.txt\n",
    "grass\n",
    "grass-dev\n",
    "r-base\n",
    "r-base-dev\n",
    "libgdal-dev\n",
    "gdal-bin\n",
    "libproj-dev\n",
    "wget\n",
    "software-properties-common\n",
    "ca-certificates"
   ]
  },
  {
   "cell_type": "markdown",
   "id": "international-millennium",
   "metadata": {},
   "source": [
    "### Create `install.R` manually"
   ]
  },
  {
   "cell_type": "code",
   "execution_count": null,
   "id": "broadband-battle",
   "metadata": {},
   "outputs": [],
   "source": [
    "%%writefile install.R\n",
    "gdal\n",
    "r-sp\n",
    "r-XML\n",
    "r-rgdal\n",
    "r-remotes\n",
    "r-rgrass7>=0.1-12\n",
    "r-units\n",
    "r-sf\n",
    "r-stars\n",
    "r-openssl\n",
    "r-curl\n",
    "r-httr\n",
    "r-devtools"
   ]
  },
  {
   "cell_type": "markdown",
   "id": "governmental-captain",
   "metadata": {},
   "source": [
    "### Create `postBuild` manually"
   ]
  },
  {
   "cell_type": "code",
   "execution_count": null,
   "id": "coral-seafood",
   "metadata": {},
   "outputs": [],
   "source": [
    "%%writefile postBuild\n",
    "conda install --file install.R"
   ]
  },
  {
   "cell_type": "markdown",
   "id": "developing-valuable",
   "metadata": {},
   "source": [
    "### Create Case-Study 2 HS resource in HydroShare"
   ]
  },
  {
   "cell_type": "code",
   "execution_count": null,
   "id": "prescription-chicken",
   "metadata": {},
   "outputs": [],
   "source": [
    "# Create the new, empty resource\n",
    "new_resource = hs.create()\n",
    "\n",
    "# Set the Title for the resource\n",
    "new_resource.metadata.title = '[Case-Study 2] MyBinder Configuration fIie and RHESSys notebook to Create a New Computational Environment and Evaluate Interoperable Reproducibility'\n",
    "\n",
    "# Set the Abstract text for the resource\n",
    "new_resource.metadata.abstract = (\n",
    "    'This resource was created to share the Sciunit container that encapsulated RHESSys end-to-end workflows'\n",
    ")\n",
    "\n",
    "# Create subject keywords for the resource using a list of strings\n",
    "new_resource.metadata.subjects = ['hydrologic modeling', 'computational reproducibility', 'containerization', 'open hydrology']\n",
    "\n",
    "# Set the spatial coverage to a BoxCoverage object\n",
    "new_resource.metadata.spatial_coverage = BoxCoverage(name='Coweeta subbasin18, North Carolina',\n",
    "                                                     northlimit=35.0513,\n",
    "                                                     eastlimit=-83.4319,\n",
    "                                                     southlimit=35.0454,\n",
    "                                                     westlimit=-83.4363,\n",
    "                                                     projection='WGS 84 EPSG:4326',\n",
    "                                                     type='box',\n",
    "                                                     units='Decimal degrees')\n",
    "\n",
    "# Create a beginning and ending date for a time period\n",
    "beginDate = datetime.strptime('2005-01-01T00:00:00Z', '%Y-%m-%dT%H:%M:%S%fZ')\n",
    "endDate = datetime.strptime('2008-12-31T00:00:00Z', '%Y-%m-%dT%H:%M:%S%fZ')\n",
    "\n",
    "# Set the temporal coverage of the resource to a PeriodCoverage object\n",
    "new_resource.metadata.period_coverage = PeriodCoverage(start=beginDate,\n",
    "                                                       end=endDate)\n",
    "\n",
    "# Save the changes to the resource in HydroShare\n",
    "new_resource.save()\n",
    "\n",
    "# Upload one or more files to your resource \n",
    "new_resource.file_upload(\"coweeta_sub18_workflow.sh\", \"YD_03_An_Approach_for_Creating_Immutable_and_Interoperable_End_to_End_Hydrological_Modeling_Computational_Workflows.ipynb\")\n",
    "new_resource.file_upload(\"setup.py\", \"apt.txt\", \"install.R\", \"postBuild\", \"e1-requirements.txt\")"
   ]
  },
  {
   "cell_type": "markdown",
   "id": "pursuant-dayton",
   "metadata": {},
   "source": [
    "# Creation of MyBinder Computational Environment in HydroShare"
   ]
  },
  {
   "cell_type": "markdown",
   "id": "national-career",
   "metadata": {},
   "source": [
    "* After Creating Two HydroShare resources until the previous procedure, we have to move to HydroShare (https://www.hydroshare.org) and find new two HydroShare resources. \n",
    "\n",
    "* After reviewing HydroShare resources, we can create MyBinder computational environments in MyBinder (https://mybinder.org)\n",
    "\n",
    "* Before Starting to create MyBinder Computational Environment, Users have to change HydroShare resource status to `Public`\n",
    "\n",
    "\n",
    "\n",
    "* Following Figure below\n",
    "\n",
    "   1) Set HydroShare resource in Repository name or URL selection options\n",
    "\n",
    "   2) Copy and Paste HydroShare resource URL from the HydroShare resources\n",
    "\n",
    "   3) Click `launch` button to start creating MyBinder computational environment"
   ]
  },
  {
   "cell_type": "markdown",
   "id": "hairy-fancy",
   "metadata": {},
   "source": [
    "<div class=\"alert alert-block alert-danger\">\n",
    "<b> Attention </b> In Case Study 2, users can run the notebook without any change until RHESSys modeling workflow; however, if users want to create a Sciunit container, users have to change the Sciunit executable location from `/opt/conda/envs/pyrhessys/bin/sciunit` to `/srv/conda/envs/notebook/bin/sciunit` considering installation of Sciunit in MyBinder </div>"
   ]
  },
  {
   "cell_type": "markdown",
   "id": "blocked-anderson",
   "metadata": {},
   "source": [
    "<img src=\"https://raw.githubusercontent.com/DavidChoi76/figures/main/mybinder.png\" width=\"800\">"
   ]
  }
 ],
 "metadata": {
  "kernelspec": {
   "display_name": "RHESSys",
   "language": "python",
   "name": "rhessys"
  },
  "language_info": {
   "codemirror_mode": {
    "name": "ipython",
    "version": 3
   },
   "file_extension": ".py",
   "mimetype": "text/x-python",
   "name": "python",
   "nbconvert_exporter": "python",
   "pygments_lexer": "ipython3",
   "version": "3.7.9"
  }
 },
 "nbformat": 4,
 "nbformat_minor": 5
}
