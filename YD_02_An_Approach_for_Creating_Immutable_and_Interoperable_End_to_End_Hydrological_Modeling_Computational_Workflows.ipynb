{
 "cells": [
  {
   "cell_type": "markdown",
   "id": "dirty-container",
   "metadata": {},
   "source": [
    "# CASE-1: Evaulate Reproducibility using the Immutable Sciunit Container"
   ]
  },
  {
   "cell_type": "markdown",
   "id": "minus-nevada",
   "metadata": {},
   "source": [
    "## Check Sciunit library"
   ]
  },
  {
   "cell_type": "markdown",
   "id": "marine-patient",
   "metadata": {},
   "source": [
    "* Sciunit versiono must be `sciunit2 0.4.post58.dev224550607`"
   ]
  },
  {
   "cell_type": "code",
   "execution_count": null,
   "id": "domestic-opposition",
   "metadata": {},
   "outputs": [],
   "source": [
    "!/srv/conda/envs/notebook/bin/sciunit --version"
   ]
  },
  {
   "cell_type": "markdown",
   "id": "applicable-thompson",
   "metadata": {},
   "source": [
    "## Open and Show the Sciunit Container Created in CyberGIS-Jupyter for water"
   ]
  },
  {
   "cell_type": "markdown",
   "id": "western-bradley",
   "metadata": {},
   "source": [
    "### Open the created Sciunit Container"
   ]
  },
  {
   "cell_type": "code",
   "execution_count": null,
   "id": "cognitive-charge",
   "metadata": {},
   "outputs": [],
   "source": [
    "!/srv/conda/envs/notebook/bin/sciunit open sciunit_container.zip"
   ]
  },
  {
   "cell_type": "markdown",
   "id": "solid-ultimate",
   "metadata": {},
   "source": [
    "### Show the created Sciunit Container"
   ]
  },
  {
   "cell_type": "code",
   "execution_count": null,
   "id": "democratic-fifth",
   "metadata": {},
   "outputs": [],
   "source": [
    "import os\n",
    "os.environ['TZ'] = 'UTC'\n",
    "!/srv/conda/envs/notebook/bin/sciunit list"
   ]
  },
  {
   "cell_type": "code",
   "execution_count": null,
   "id": "pharmaceutical-granny",
   "metadata": {},
   "outputs": [],
   "source": [
    "!/srv/conda/envs/notebook/bin/sciunit show e1"
   ]
  },
  {
   "cell_type": "markdown",
   "id": "fuzzy-documentary",
   "metadata": {},
   "source": [
    "## Repeat Sciunit Container to Reproduce RHESSys End-To-End Modeling Workflow"
   ]
  },
  {
   "cell_type": "code",
   "execution_count": null,
   "id": "soviet-football",
   "metadata": {
    "scrolled": true
   },
   "outputs": [],
   "source": [
    "!/srv/conda/envs/notebook/bin/sciunit repeat e1"
   ]
  },
  {
   "cell_type": "markdown",
   "id": "nominated-security",
   "metadata": {},
   "source": [
    "## Evalutate Reproducibility of RHESSys End-To-End Modeling Workflow"
   ]
  },
  {
   "cell_type": "markdown",
   "id": "charitable-convergence",
   "metadata": {},
   "source": [
    "### Navigate to the Reproduced RHESSys Output"
   ]
  },
  {
   "cell_type": "code",
   "execution_count": null,
   "id": "engaged-allowance",
   "metadata": {},
   "outputs": [],
   "source": [
    "original_resource_id = \"b42bb18c5fcf4d04a6910877d5d2b222\"\n",
    "reproduced_analysis = \"/home/jovyan/sciunit/sciunit_container/cde-package/cde-root/home/jovyan/work/Downloads/\"+original_resource_id+\"/\"+original_resource_id+\"/data/contents/\"\n",
    "!ls {reproduced_analysis}"
   ]
  },
  {
   "cell_type": "markdown",
   "id": "postal-horizon",
   "metadata": {},
   "source": [
    "### Reproduce Aspect, Slope, and Flow Direction Maps"
   ]
  },
  {
   "cell_type": "code",
   "execution_count": null,
   "id": "prepared-hearts",
   "metadata": {},
   "outputs": [],
   "source": [
    "from IPython.display import Image\n",
    "Image(filename=reproduced_analysis+'/aspect.png') "
   ]
  },
  {
   "cell_type": "code",
   "execution_count": null,
   "id": "adopted-insight",
   "metadata": {},
   "outputs": [],
   "source": [
    "Image(filename=reproduced_analysis+'/slope.png') "
   ]
  },
  {
   "cell_type": "code",
   "execution_count": null,
   "id": "instrumental-surge",
   "metadata": {},
   "outputs": [],
   "source": [
    "Image(filename=reproduced_analysis+'/drain.png') "
   ]
  },
  {
   "cell_type": "markdown",
   "id": "hourly-breach",
   "metadata": {},
   "source": [
    "### Reproduce the Comparison Plot between Simulation and Observation Streamflow"
   ]
  },
  {
   "cell_type": "code",
   "execution_count": null,
   "id": "congressional-blink",
   "metadata": {},
   "outputs": [],
   "source": [
    "Image(filename=reproduced_analysis+'/figure.png') "
   ]
  },
  {
   "cell_type": "markdown",
   "id": "thorough-chess",
   "metadata": {},
   "source": [
    "### Reproduce the Model Performance Results"
   ]
  },
  {
   "cell_type": "code",
   "execution_count": null,
   "id": "automotive-salvation",
   "metadata": {},
   "outputs": [],
   "source": [
    "with open(os.path.join(reproduced_analysis, \"performance.txt\"), 'r') as text:\n",
    "    textfile = text.read()\n",
    "    print(textfile)"
   ]
  },
  {
   "cell_type": "code",
   "execution_count": null,
   "id": "negative-vocabulary",
   "metadata": {},
   "outputs": [],
   "source": []
  }
 ],
 "metadata": {
  "kernelspec": {
   "display_name": "Python 3",
   "language": "python",
   "name": "python3"
  },
  "language_info": {
   "codemirror_mode": {
    "name": "ipython",
    "version": 3
   },
   "file_extension": ".py",
   "mimetype": "text/x-python",
   "name": "python",
   "nbconvert_exporter": "python",
   "pygments_lexer": "ipython3",
   "version": "3.7.9"
  }
 },
 "nbformat": 4,
 "nbformat_minor": 5
}
